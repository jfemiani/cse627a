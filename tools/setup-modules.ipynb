{
 "cells": [
  {
   "cell_type": "code",
   "execution_count": 2,
   "metadata": {},
   "outputs": [
    {
     "name": "stdout",
     "output_type": "stream",
     "text": [
      "Requirement already satisfied: canvasapi in ./.conda/lib/python3.11/site-packages (3.3.0)\n",
      "Collecting python-dotenv\n",
      "  Using cached python_dotenv-1.0.1-py3-none-any.whl.metadata (23 kB)\n",
      "Requirement already satisfied: arrow in ./.conda/lib/python3.11/site-packages (from canvasapi) (1.3.0)\n",
      "Requirement already satisfied: pytz in ./.conda/lib/python3.11/site-packages (from canvasapi) (2024.2)\n",
      "Requirement already satisfied: requests in ./.conda/lib/python3.11/site-packages (from canvasapi) (2.32.3)\n",
      "Requirement already satisfied: python-dateutil>=2.7.0 in ./.conda/lib/python3.11/site-packages (from arrow->canvasapi) (2.9.0.post0)\n",
      "Requirement already satisfied: types-python-dateutil>=2.8.10 in ./.conda/lib/python3.11/site-packages (from arrow->canvasapi) (2.9.0.20241206)\n",
      "Requirement already satisfied: charset-normalizer<4,>=2 in ./.conda/lib/python3.11/site-packages (from requests->canvasapi) (3.4.1)\n",
      "Requirement already satisfied: idna<4,>=2.5 in ./.conda/lib/python3.11/site-packages (from requests->canvasapi) (3.10)\n",
      "Requirement already satisfied: urllib3<3,>=1.21.1 in ./.conda/lib/python3.11/site-packages (from requests->canvasapi) (2.3.0)\n",
      "Requirement already satisfied: certifi>=2017.4.17 in ./.conda/lib/python3.11/site-packages (from requests->canvasapi) (2024.12.14)\n",
      "Requirement already satisfied: six>=1.5 in ./.conda/lib/python3.11/site-packages (from python-dateutil>=2.7.0->arrow->canvasapi) (1.17.0)\n",
      "Using cached python_dotenv-1.0.1-py3-none-any.whl (19 kB)\n",
      "Installing collected packages: python-dotenv\n",
      "Successfully installed python-dotenv-1.0.1\n"
     ]
    }
   ],
   "source": [
    "!pip install canvasapi python-dotenv"
   ]
  },
  {
   "cell_type": "code",
   "execution_count": null,
   "metadata": {},
   "outputs": [],
   "source": [
    "from canvasapi import Canvas\n",
    "load_dotenv()\n",
    "# Canvas API URL and Access Token\n",
    "API_URL = 'https://miamioh.instructure.com'\n",
    "API_KEY = os.getenv('CANVAS_ACCESS_TOKEN')\n",
    "\n",
    "# Initialize Canvas object\n",
    "canvas = Canvas(API_URL, API_KEY)\n",
    "\n",
    "# Course ID\n",
    "course_id = '230947'\n",
    "\n",
    "# Weekly topics and dates\n",
    "weekly_schedule = [\n",
    "    {\"week\": 1, \"dates\": \"Jan 27–Feb 2\", \"topic\": \"Introduction to Machine Learning, ML Paradigms\"},\n",
    "    {\"week\": 2, \"dates\": \"Feb 3–Feb 9\", \"topic\": \"Probability and Distributions\"},\n",
    "    {\"week\": 3, \"dates\": \"Feb 10–Feb 16\", \"topic\": \"Linear Models: Regression and Classification\"},\n",
    "    {\"week\": 4, \"dates\": \"Feb 17–Feb 23\", \"topic\": \"Neural Networks: Perceptrons, Multilayer Networks\"},\n",
    "    {\"week\": 5, \"dates\": \"Feb 24–Mar 1\", \"topic\": \"Convolutional Networks\"},\n",
    "    {\"week\": 6, \"dates\": \"Mar 2–Mar 8\", \"topic\": \"Kernel Methods and Regularization\"},\n",
    "    {\"week\": 7, \"dates\": \"Mar 9–Mar 15\", \"topic\": \"Support Vector Machines and Sparse Kernel Machines\"},\n",
    "    {\"week\": 8, \"dates\": \"Mar 16–Mar 22\", \"topic\": \"Exam 1\"},\n",
    "    {\"week\": 9, \"dates\": \"Mar 23–Mar 29\", \"topic\": \"Spring Break (No Classes)\"},\n",
    "    {\"week\": 10, \"dates\": \"Mar 30–Apr 5\", \"topic\": \"Bayesian Learning: Bayes Theorem and Networks\"},\n",
    "    {\"week\": 11, \"dates\": \"Apr 6–Apr 12\", \"topic\": \"Mixture Models, EM Algorithm\"},\n",
    "    {\"week\": 12, \"dates\": \"Apr 13–Apr 19\", \"topic\": \"Reinforcement Learning and Sequential Data\"},\n",
    "    {\"week\": 13, \"dates\": \"Apr 20–Apr 26\", \"topic\": \"Applications: Ensemble Learning, Transformers, and GNNs\"},\n",
    "    {\"week\": 14, \"dates\": \"Apr 27–May 3\", \"topic\": \"Exam 2\"},\n",
    "    {\"week\": 15, \"dates\": \"May 4–May 10\", \"topic\": \"Applications: Model Combination and Advanced Topics\"},\n",
    "    {\"week\": 16, \"dates\": \"May 12–May 16\", \"topic\": \"Final Exam (Optional)\"}\n",
    "]\n",
    "\n",
    "# Get the course\n",
    "course = canvas.get_course(course_id)\n",
    "\n",
    "# Create modules\n",
    "for week in weekly_schedule:\n",
    "    module_name = f\"Week {week['week']} ({week['dates']}) - {week['topic']}\"\n",
    "    course.create_module(module={'name': module_name})\n",
    "\n",
    "print(\"Modules created successfully.\")\n"
   ]
  },
  {
   "cell_type": "code",
   "execution_count": null,
   "metadata": {},
   "outputs": [],
   "source": []
  }
 ],
 "metadata": {
  "kernelspec": {
   "display_name": "Python 3",
   "language": "python",
   "name": "python3"
  },
  "language_info": {
   "codemirror_mode": {
    "name": "ipython",
    "version": 3
   },
   "file_extension": ".py",
   "mimetype": "text/x-python",
   "name": "python",
   "nbconvert_exporter": "python",
   "pygments_lexer": "ipython3",
   "version": "3.11.11"
  }
 },
 "nbformat": 4,
 "nbformat_minor": 2
}
